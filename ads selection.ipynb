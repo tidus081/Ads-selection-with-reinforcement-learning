{
 "cells": [
  {
   "cell_type": "markdown",
   "metadata": {},
   "source": [
    "## Ads selection with reinforcement learning\n",
    "we are finding strategy how we choose one ad to display to users each time when hey connect to a web page.\n",
    "\n",
    "Three methods - Random selection, Upper Confidence Bound, and Thompson sampling - will be applied."
   ]
  },
  {
   "cell_type": "markdown",
   "metadata": {},
   "source": [
    "## Import all the module and function and load the data"
   ]
  },
  {
   "cell_type": "code",
   "execution_count": 8,
   "metadata": {},
   "outputs": [],
   "source": [
    "import numpy as np\n",
    "import matplotlib.pyplot as plt\n",
    "import pandas as pd\n",
    "import math\n",
    "import random\n",
    "\n",
    "# Data is simulation data which expect that customers click some ads.\n",
    "dataset = pd.read_csv('D:/Data/Ads.csv') \n"
   ]
  },
  {
   "cell_type": "markdown",
   "metadata": {},
   "source": [
    "## 1. Random Selection "
   ]
  },
  {
   "cell_type": "code",
   "execution_count": 14,
   "metadata": {
    "scrolled": true
   },
   "outputs": [
    {
     "data": {
      "image/png": "[encoded data removed]",
      "text/plain": [
       "<matplotlib.figure.Figure at 0x1844bfe11d0>"
      ]
     },
     "metadata": {},
     "output_type": "display_data"
    },
    {
     "data": {
      "text/plain": [
       "1231"
      ]
     },
     "execution_count": 14,
     "metadata": {},
     "output_type": "execute_result"
    }
   ],
   "source": [
    "N = 10000\n",
    "d=10\n",
    "\n",
    "# We choose a ad every step and if it matches up with the customer expectation, we will count 1 on the total_reward.\n",
    "ads_selected_random = []\n",
    "total_reward = 0\n",
    "\n",
    "for n in range(0,N):\n",
    "    ad = random.randrange(d)\n",
    "    ads_selected_random.append(ad)\n",
    "    reward = dataset.values[n,ad]\n",
    "    total_reward += reward\n",
    "\n",
    "# The histograms show how many ads are selected.\n",
    "# visualize the results\n",
    "plt.hist(ads_selected_random)\n",
    "plt.title('Histogram of ads selections in Random sample')\n",
    "plt.show()\n",
    "total_reward"
   ]
  },
  {
   "cell_type": "markdown",
   "metadata": {},
   "source": [
    "Of course we randomly choose ads and we get nearly uniformed distribution. It will be used for comparision."
   ]
  },
  {
   "cell_type": "markdown",
   "metadata": {},
   "source": [
    "## 2. Upper Confidence Bound Algorithm"
   ]
  },
  {
   "cell_type": "markdown",
   "metadata": {},
   "source": [
    "step1 \n",
    "\n",
    "At each round n, we consider two numbers for each ad i:\n",
    "\n",
    "N_i(n) - the number of times the ad i was selected up to round n,\n",
    "\n",
    "R_i(n) - the sum of rewards of the ad i up to round n\n",
    "\n",
    "step2\n",
    "\n",
    "From these two numbers we compute the average reward of ad i up to round n\n",
    "\n",
    "r_i(n) = R_i(n)/N_i(n)\n",
    "\n",
    "confidence interval [r_i(n)-delta_i(n),r_i(n)+delta_i(n)] Where delta_i(n)=sqrt(3log(n)/2N_i(n))\n",
    "\n",
    "step3 \n",
    "\n",
    "We select the ad i which has max UCB r_i(n)+delta_i(n)"
   ]
  },
  {
   "cell_type": "markdown",
   "metadata": {},
   "source": [
    "## There is no package to implement UCB algorithm so we are going to build it from scratch."
   ]
  },
  {
   "cell_type": "code",
   "execution_count": 15,
   "metadata": {},
   "outputs": [
    {
     "data": {
      "image/png": "[encoded data removed]",
      "text/plain": [
       "<matplotlib.figure.Figure at 0x1844c046390>"
      ]
     },
     "metadata": {},
     "output_type": "display_data"
    },
    {
     "data": {
      "text/plain": [
       "2178"
      ]
     },
     "execution_count": 15,
     "metadata": {},
     "output_type": "execute_result"
    }
   ],
   "source": [
    "numbers_of_selections = [0]*d\n",
    "sums_of_rewards = [0]*d\n",
    "ads_selected_UCB = []\n",
    "total_reward = 0\n",
    "\n",
    "for n in range(0,N):\n",
    "    max_upper_bound = 0\n",
    "    ad = 0\n",
    "    for i in range(0,d):\n",
    "        if (numbers_of_selections[i] >0):\n",
    "            average_reward = sums_of_rewards[i] / numbers_of_selections[i]\n",
    "            delta_i = math.sqrt(3/2 * math.log(n+1)/numbers_of_selections[i] )\n",
    "            upper_bound = average_reward + delta_i\n",
    "        else:\n",
    "            upper_bound = 1e4000\n",
    "        if upper_bound > max_upper_bound:\n",
    "            max_upper_bound = upper_bound\n",
    "            ad = i  \n",
    "    ads_selected_UCB.append(ad)\n",
    "    numbers_of_selections[ad]+=1\n",
    "    reward = dataset.values[n,ad]\n",
    "    sums_of_rewards[ad]+=reward\n",
    "    total_reward = total_reward + reward\n",
    "    \n",
    "# visualize the results\n",
    "plt.hist(ads_selected_UCB)\n",
    "plt.title('Histogram of ads selections in UCB')\n",
    "plt.xlabel('Ads')\n",
    "plt.ylabel('Number of times each ad was selected')\n",
    "plt.show()\n",
    "total_reward"
   ]
  },
  {
   "cell_type": "markdown",
   "metadata": {},
   "source": [
    "Index 4 ads are selected mostly and total reward shows it performs better than random selection."
   ]
  },
  {
   "cell_type": "markdown",
   "metadata": {},
   "source": [
    "## 3. Implementing Thompson sampling"
   ]
  },
  {
   "cell_type": "markdown",
   "metadata": {},
   "source": [
    "step1\n",
    "\n",
    "N1_i(n) - the number of times the ad i got reward 1 up to round n\n",
    "N0_i(n) - the number of times the ad i got reward 0 up to round n\n",
    "\n",
    "step2\n",
    "\n",
    "For each ad i, we take a random draw from the distribution below\n",
    "o_i(n) = B(N1_i(n)+1, N0_i(n)+1)\n",
    "\n",
    "step3\n",
    "\n",
    "we select the ad that has the highest o_i(n)\n",
    "\n",
    "generally Thompson sampling is better than UCB"
   ]
  },
  {
   "cell_type": "code",
   "execution_count": 17,
   "metadata": {},
   "outputs": [
    {
     "data": {
      "image/png": "[encoded data removed]",
      "text/plain": [
       "<matplotlib.figure.Figure at 0x1844c068cc0>"
      ]
     },
     "metadata": {},
     "output_type": "display_data"
    },
    {
     "data": {
      "text/plain": [
       "2558"
      ]
     },
     "execution_count": 17,
     "metadata": {},
     "output_type": "execute_result"
    }
   ],
   "source": [
    "numbers_of_rewards_1 = [0]*d\n",
    "numbers_of_rewards_0 =  [0]*d\n",
    "sums_of_rewards = [0]*d\n",
    "ads_selected_Thompson = []\n",
    "total_reward = 0\n",
    "\n",
    "for n in range(0,N):\n",
    "    max_random_draw = 0\n",
    "    ad = 0\n",
    "    for i in range(0,d):\n",
    "        random_beta = random.betavariate(numbers_of_rewards_1[i]+1,numbers_of_rewards_0[i]+1)\n",
    "        if random_beta > max_random_draw:\n",
    "            max_random_draw = random_beta\n",
    "            ad = i  \n",
    "    ads_selected_Thompson.append(ad)\n",
    "    reward = dataset.values[n,ad]\n",
    "    if reward==1:\n",
    "        numbers_of_rewards_1[ad] +=1\n",
    "    else:\n",
    "        numbers_of_rewards_0[ad] +=1\n",
    "    total_reward = total_reward + reward\n",
    "\n",
    "# visualize the results\n",
    "plt.hist(ads_selected_Thompson)\n",
    "plt.title('Histogram of ads selections in Thompson sampling')\n",
    "plt.xlabel('Ads')\n",
    "plt.ylabel('Number of times each ad was selected')\n",
    "plt.show()\n",
    "\n",
    "total_reward"
   ]
  },
  {
   "cell_type": "markdown",
   "metadata": {},
   "source": [
    "Index 4 ads are selected mostly as well but total reward shows it performs better than UCB."
   ]
  },
  {
   "cell_type": "markdown",
   "metadata": {},
   "source": [
    "As step goes further, the algorithms should select one ad which has the highest conversion rate.\n",
    "\n",
    "We can check it by seeing ads_select_UCB and ads_select_Thompson.\n",
    "\n",
    "By applying reinforcement learning, We can optimize advertising effects and ruduce advertismement costs within limited budgets."
   ]
  }
 ],
 "metadata": {
  "kernelspec": {
   "display_name": "Python 3",
   "language": "python",
   "name": "python3"
  },
  "language_info": {
   "codemirror_mode": {
    "name": "ipython",
    "version": 3
   },
   "file_extension": ".py",
   "mimetype": "text/x-python",
   "name": "python",
   "nbconvert_exporter": "python",
   "pygments_lexer": "ipython3",
   "version": "3.5.5"
  }
 },
 "nbformat": 4,
 "nbformat_minor": 2
}
